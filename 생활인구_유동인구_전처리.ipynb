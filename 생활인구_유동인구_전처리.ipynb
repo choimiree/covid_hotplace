{
 "cells": [
  {
   "cell_type": "code",
   "execution_count": 1,
   "metadata": {},
   "outputs": [],
   "source": [
    "import pandas as pd\n",
    "import numpy as np\n",
    "import matplotlib.pyplot as plt\n",
    "import seaborn as sns\n",
    "sns.set()\n",
    "import os\n",
    "import datetime\n",
    "pd.options.display.max_rows = 20\n",
    "\n",
    "from sklearn.preprocessing import StandardScaler\n",
    "scaler = StandardScaler()\n",
    "\n",
    "import warnings\n",
    "warnings.filterwarnings(action='ignore')\n",
    "\n",
    "## 아래는 matplotlib 한국어 표시해주는 코드\n",
    "\n",
    "from matplotlib import font_manager, rc\n",
    "font_name = font_manager.FontProperties(fname=\"c:/Windows/Fonts/malgun.ttf\").get_name()\n",
    "rc('font', family=font_name)"
   ]
  },
  {
   "cell_type": "markdown",
   "metadata": {},
   "source": [
    "# 생활인구"
   ]
  },
  {
   "cell_type": "markdown",
   "metadata": {},
   "source": [
    "## 코드파일 처리"
   ]
  },
  {
   "cell_type": "code",
   "execution_count": 103,
   "metadata": {},
   "outputs": [
    {
     "data": {
      "text/html": [
       "<div>\n",
       "<style scoped>\n",
       "    .dataframe tbody tr th:only-of-type {\n",
       "        vertical-align: middle;\n",
       "    }\n",
       "\n",
       "    .dataframe tbody tr th {\n",
       "        vertical-align: top;\n",
       "    }\n",
       "\n",
       "    .dataframe thead th {\n",
       "        text-align: right;\n",
       "    }\n",
       "</style>\n",
       "<table border=\"1\" class=\"dataframe\">\n",
       "  <thead>\n",
       "    <tr style=\"text-align: right;\">\n",
       "      <th></th>\n",
       "      <th>code</th>\n",
       "      <th>시도명</th>\n",
       "      <th>구</th>\n",
       "      <th>동</th>\n",
       "    </tr>\n",
       "  </thead>\n",
       "  <tbody>\n",
       "    <tr>\n",
       "      <th>0</th>\n",
       "      <td>11000000</td>\n",
       "      <td>서울특별시</td>\n",
       "      <td>NaN</td>\n",
       "      <td>NaN</td>\n",
       "    </tr>\n",
       "    <tr>\n",
       "      <th>1</th>\n",
       "      <td>11110000</td>\n",
       "      <td>서울특별시</td>\n",
       "      <td>종로구</td>\n",
       "      <td>NaN</td>\n",
       "    </tr>\n",
       "    <tr>\n",
       "      <th>2</th>\n",
       "      <td>11110515</td>\n",
       "      <td>서울특별시</td>\n",
       "      <td>종로구</td>\n",
       "      <td>청운효자동</td>\n",
       "    </tr>\n",
       "    <tr>\n",
       "      <th>12</th>\n",
       "      <td>11110530</td>\n",
       "      <td>서울특별시</td>\n",
       "      <td>종로구</td>\n",
       "      <td>사직동</td>\n",
       "    </tr>\n",
       "    <tr>\n",
       "      <th>24</th>\n",
       "      <td>11110540</td>\n",
       "      <td>서울특별시</td>\n",
       "      <td>종로구</td>\n",
       "      <td>삼청동</td>\n",
       "    </tr>\n",
       "  </tbody>\n",
       "</table>\n",
       "</div>"
      ],
      "text/plain": [
       "        code    시도명    구      동\n",
       "0   11000000  서울특별시  NaN    NaN\n",
       "1   11110000  서울특별시  종로구    NaN\n",
       "2   11110515  서울특별시  종로구  청운효자동\n",
       "12  11110530  서울특별시  종로구    사직동\n",
       "24  11110540  서울특별시  종로구    삼청동"
      ]
     },
     "execution_count": 103,
     "metadata": {},
     "output_type": "execute_result"
    }
   ],
   "source": [
    "dcode = pd.read_excel('./data/행정동코드.xlsx',encoding='cp949')\n",
    "dcode = dcode.iloc[:,0:4]\n",
    "dcode = dcode[dcode.시도명 ==\"서울특별시\"]\n",
    "dcode = dcode.drop_duplicates()\n",
    "dcode.columns = [\"code\",\"시도명\",\"구\",\"동\"]\n",
    "dcode['code'] = dcode['code'].map(lambda x : str(x)[:-2])\n",
    "dcode.head()"
   ]
  },
  {
   "cell_type": "markdown",
   "metadata": {},
   "source": [
    "## 생활인구파일 : 일별로 합산"
   ]
  },
  {
   "cell_type": "code",
   "execution_count": 150,
   "metadata": {},
   "outputs": [],
   "source": [
    "def people_count_sum(df):    \n",
    "    df = df.reset_index().iloc[:,0:4]\n",
    "    df.columns = [\"날짜\",\"hour\",\"code\",\"생활인구수\"]\n",
    "    #df.drop(['hour'], axis = 1,inplace = True)\n",
    "    df_return = df.groupby(['날짜', 'code']).apply(func)\n",
    "    df2 = df_return.reset_index()\n",
    "    df2['code'] = df2['code'].map(lambda x : str(x))\n",
    "    res = pd.merge(df2,dcode,on=\"code\")\n",
    "    res.drop(['code'],axis = 1, inplace = True)\n",
    "    return res"
   ]
  },
  {
   "cell_type": "code",
   "execution_count": 151,
   "metadata": {},
   "outputs": [],
   "source": [
    "def func(x):\n",
    "    d={}\n",
    "    d['생활인구수'] = (x['생활인구수'].sum())\n",
    "\n",
    "    return pd.Series(d, index=['생활인구수'])"
   ]
  },
  {
   "cell_type": "code",
   "execution_count": 152,
   "metadata": {},
   "outputs": [],
   "source": [
    "list_ = []\n",
    "for k in range(2,9):\n",
    "    data = pd.read_csv(f'./data/LOCAL_PEOPLE_DONG_20200{k}.csv',encoding ='utf-8')\n",
    "    df = people_count_sum(data)\n",
    "    list_.append(df)"
   ]
  },
  {
   "cell_type": "code",
   "execution_count": 153,
   "metadata": {},
   "outputs": [],
   "source": [
    "for k in range(2,9):\n",
    "    data = pd.read_csv(f'./data/LOCAL_PEOPLE_DONG_20190{k}.csv',encoding ='utf-8')\n",
    "    df = people_count_sum(data)\n",
    "    list_.append(df)"
   ]
  },
  {
   "cell_type": "markdown",
   "metadata": {},
   "source": [
    "## '구별'로 묶기"
   ]
  },
  {
   "cell_type": "code",
   "execution_count": 154,
   "metadata": {},
   "outputs": [],
   "source": [
    "def func_dong(x):\n",
    "    d={}\n",
    "    d['생활인구수'] = (x['생활인구수'].sum())\n",
    "\n",
    "    return pd.Series(d, index=['생활인구수'])"
   ]
  },
  {
   "cell_type": "code",
   "execution_count": 155,
   "metadata": {},
   "outputs": [
    {
     "data": {
      "text/html": [
       "<div>\n",
       "<style scoped>\n",
       "    .dataframe tbody tr th:only-of-type {\n",
       "        vertical-align: middle;\n",
       "    }\n",
       "\n",
       "    .dataframe tbody tr th {\n",
       "        vertical-align: top;\n",
       "    }\n",
       "\n",
       "    .dataframe thead th {\n",
       "        text-align: right;\n",
       "    }\n",
       "</style>\n",
       "<table border=\"1\" class=\"dataframe\">\n",
       "  <thead>\n",
       "    <tr style=\"text-align: right;\">\n",
       "      <th></th>\n",
       "      <th>날짜</th>\n",
       "      <th>생활인구수</th>\n",
       "      <th>시도명</th>\n",
       "      <th>구</th>\n",
       "      <th>동</th>\n",
       "    </tr>\n",
       "  </thead>\n",
       "  <tbody>\n",
       "    <tr>\n",
       "      <th>0</th>\n",
       "      <td>20200201</td>\n",
       "      <td>367962.2054</td>\n",
       "      <td>서울특별시</td>\n",
       "      <td>종로구</td>\n",
       "      <td>청운효자동</td>\n",
       "    </tr>\n",
       "    <tr>\n",
       "      <th>1</th>\n",
       "      <td>20200202</td>\n",
       "      <td>357848.5414</td>\n",
       "      <td>서울특별시</td>\n",
       "      <td>종로구</td>\n",
       "      <td>청운효자동</td>\n",
       "    </tr>\n",
       "    <tr>\n",
       "      <th>2</th>\n",
       "      <td>20200203</td>\n",
       "      <td>384159.4535</td>\n",
       "      <td>서울특별시</td>\n",
       "      <td>종로구</td>\n",
       "      <td>청운효자동</td>\n",
       "    </tr>\n",
       "    <tr>\n",
       "      <th>3</th>\n",
       "      <td>20200204</td>\n",
       "      <td>388443.1466</td>\n",
       "      <td>서울특별시</td>\n",
       "      <td>종로구</td>\n",
       "      <td>청운효자동</td>\n",
       "    </tr>\n",
       "    <tr>\n",
       "      <th>4</th>\n",
       "      <td>20200205</td>\n",
       "      <td>396399.9476</td>\n",
       "      <td>서울특별시</td>\n",
       "      <td>종로구</td>\n",
       "      <td>청운효자동</td>\n",
       "    </tr>\n",
       "  </tbody>\n",
       "</table>\n",
       "</div>"
      ],
      "text/plain": [
       "         날짜        생활인구수    시도명    구      동\n",
       "0  20200201  367962.2054  서울특별시  종로구  청운효자동\n",
       "1  20200202  357848.5414  서울특별시  종로구  청운효자동\n",
       "2  20200203  384159.4535  서울특별시  종로구  청운효자동\n",
       "3  20200204  388443.1466  서울특별시  종로구  청운효자동\n",
       "4  20200205  396399.9476  서울특별시  종로구  청운효자동"
      ]
     },
     "execution_count": 155,
     "metadata": {},
     "output_type": "execute_result"
    }
   ],
   "source": [
    "res = pd.concat(list_)\n",
    "res.head()"
   ]
  },
  {
   "cell_type": "code",
   "execution_count": 156,
   "metadata": {},
   "outputs": [],
   "source": [
    "res_return = res.groupby(['날짜', '구']).apply(func_dong)\n",
    "res1 = res_return.reset_index()"
   ]
  },
  {
   "cell_type": "markdown",
   "metadata": {},
   "source": [
    "## 저장"
   ]
  },
  {
   "cell_type": "code",
   "execution_count": 158,
   "metadata": {},
   "outputs": [],
   "source": [
    "res.to_csv('생활인구_전처리.csv',encoding='cp949') #동포함"
   ]
  },
  {
   "cell_type": "code",
   "execution_count": 160,
   "metadata": {},
   "outputs": [],
   "source": [
    "res1.to_csv('생활인구_전처리_구.csv',encoding='cp949') #구까지만"
   ]
  },
  {
   "cell_type": "markdown",
   "metadata": {},
   "source": [
    "# 유동인구"
   ]
  },
  {
   "cell_type": "code",
   "execution_count": 161,
   "metadata": {},
   "outputs": [],
   "source": [
    "def yd_sum(yd):\n",
    "    yd.drop(['시간(1시간단위)','연령대(10세단위)','성별'],axis = 1, inplace = True)\n",
    "    yd.columns = [\"날짜\",\"시\",\"구\",\"유동인구수\"]\n",
    "    yd_return = yd.groupby(['날짜', '구']).apply(func_yd)\n",
    "    yd2 = yd_return.reset_index()\n",
    "    return yd2"
   ]
  },
  {
   "cell_type": "code",
   "execution_count": 162,
   "metadata": {},
   "outputs": [],
   "source": [
    "def func_yd(x):\n",
    "    d={}\n",
    "    d['유동인구수'] = (x['유동인구수'].sum())\n",
    "\n",
    "    return pd.Series(d, index=['유동인구수'])"
   ]
  },
  {
   "cell_type": "code",
   "execution_count": 163,
   "metadata": {},
   "outputs": [],
   "source": [
    "list_yd = []\n",
    "for k in range(2,9):\n",
    "    data = pd.read_csv(f'./data/Floating_Population_200{k}.csv',encoding ='utf-8')\n",
    "    yd = yd_sum(data)\n",
    "    list_yd.append(yd)"
   ]
  },
  {
   "cell_type": "code",
   "execution_count": 164,
   "metadata": {},
   "outputs": [],
   "source": [
    "for k in range(3,9):\n",
    "    data = pd.read_csv(f'./data/FLT_SEOUL_0{k}MONTH.csv',encoding='utf-8')\n",
    "    yd = yd_sum(data)\n",
    "    list_yd.append(yd)"
   ]
  },
  {
   "cell_type": "code",
   "execution_count": 165,
   "metadata": {},
   "outputs": [
    {
     "data": {
      "text/html": [
       "<div>\n",
       "<style scoped>\n",
       "    .dataframe tbody tr th:only-of-type {\n",
       "        vertical-align: middle;\n",
       "    }\n",
       "\n",
       "    .dataframe tbody tr th {\n",
       "        vertical-align: top;\n",
       "    }\n",
       "\n",
       "    .dataframe thead th {\n",
       "        text-align: right;\n",
       "    }\n",
       "</style>\n",
       "<table border=\"1\" class=\"dataframe\">\n",
       "  <thead>\n",
       "    <tr style=\"text-align: right;\">\n",
       "      <th></th>\n",
       "      <th>날짜</th>\n",
       "      <th>구</th>\n",
       "      <th>유동인구수</th>\n",
       "    </tr>\n",
       "  </thead>\n",
       "  <tbody>\n",
       "    <tr>\n",
       "      <th>0</th>\n",
       "      <td>20200201</td>\n",
       "      <td>강남구</td>\n",
       "      <td>12636840</td>\n",
       "    </tr>\n",
       "    <tr>\n",
       "      <th>1</th>\n",
       "      <td>20200201</td>\n",
       "      <td>강동구</td>\n",
       "      <td>8339770</td>\n",
       "    </tr>\n",
       "    <tr>\n",
       "      <th>2</th>\n",
       "      <td>20200201</td>\n",
       "      <td>강북구</td>\n",
       "      <td>5966500</td>\n",
       "    </tr>\n",
       "    <tr>\n",
       "      <th>3</th>\n",
       "      <td>20200201</td>\n",
       "      <td>강서구</td>\n",
       "      <td>10864880</td>\n",
       "    </tr>\n",
       "    <tr>\n",
       "      <th>4</th>\n",
       "      <td>20200201</td>\n",
       "      <td>관악구</td>\n",
       "      <td>9966300</td>\n",
       "    </tr>\n",
       "    <tr>\n",
       "      <th>...</th>\n",
       "      <td>...</td>\n",
       "      <td>...</td>\n",
       "      <td>...</td>\n",
       "    </tr>\n",
       "    <tr>\n",
       "      <th>770</th>\n",
       "      <td>20190831</td>\n",
       "      <td>용산구</td>\n",
       "      <td>5143930</td>\n",
       "    </tr>\n",
       "    <tr>\n",
       "      <th>771</th>\n",
       "      <td>20190831</td>\n",
       "      <td>은평구</td>\n",
       "      <td>7981020</td>\n",
       "    </tr>\n",
       "    <tr>\n",
       "      <th>772</th>\n",
       "      <td>20190831</td>\n",
       "      <td>종로구</td>\n",
       "      <td>4977300</td>\n",
       "    </tr>\n",
       "    <tr>\n",
       "      <th>773</th>\n",
       "      <td>20190831</td>\n",
       "      <td>중구</td>\n",
       "      <td>4532980</td>\n",
       "    </tr>\n",
       "    <tr>\n",
       "      <th>774</th>\n",
       "      <td>20190831</td>\n",
       "      <td>중랑구</td>\n",
       "      <td>7095190</td>\n",
       "    </tr>\n",
       "  </tbody>\n",
       "</table>\n",
       "<p>9900 rows × 3 columns</p>\n",
       "</div>"
      ],
      "text/plain": [
       "           날짜    구     유동인구수\n",
       "0    20200201  강남구  12636840\n",
       "1    20200201  강동구   8339770\n",
       "2    20200201  강북구   5966500\n",
       "3    20200201  강서구  10864880\n",
       "4    20200201  관악구   9966300\n",
       "..        ...  ...       ...\n",
       "770  20190831  용산구   5143930\n",
       "771  20190831  은평구   7981020\n",
       "772  20190831  종로구   4977300\n",
       "773  20190831   중구   4532980\n",
       "774  20190831  중랑구   7095190\n",
       "\n",
       "[9900 rows x 3 columns]"
      ]
     },
     "execution_count": 165,
     "metadata": {},
     "output_type": "execute_result"
    }
   ],
   "source": [
    "res2 = pd.concat(list_yd)\n",
    "res2"
   ]
  },
  {
   "cell_type": "code",
   "execution_count": 149,
   "metadata": {},
   "outputs": [],
   "source": [
    "res2.to_csv('유동인구_전처리.csv',encoding='cp949')"
   ]
  },
  {
   "cell_type": "markdown",
   "metadata": {},
   "source": [
    "# 생활/유동 합치기"
   ]
  },
  {
   "cell_type": "code",
   "execution_count": 166,
   "metadata": {},
   "outputs": [
    {
     "data": {
      "text/html": [
       "<div>\n",
       "<style scoped>\n",
       "    .dataframe tbody tr th:only-of-type {\n",
       "        vertical-align: middle;\n",
       "    }\n",
       "\n",
       "    .dataframe tbody tr th {\n",
       "        vertical-align: top;\n",
       "    }\n",
       "\n",
       "    .dataframe thead th {\n",
       "        text-align: right;\n",
       "    }\n",
       "</style>\n",
       "<table border=\"1\" class=\"dataframe\">\n",
       "  <thead>\n",
       "    <tr style=\"text-align: right;\">\n",
       "      <th></th>\n",
       "      <th>날짜</th>\n",
       "      <th>구</th>\n",
       "      <th>생활인구수</th>\n",
       "      <th>유동인구수</th>\n",
       "    </tr>\n",
       "  </thead>\n",
       "  <tbody>\n",
       "    <tr>\n",
       "      <th>0</th>\n",
       "      <td>20190201</td>\n",
       "      <td>강남구</td>\n",
       "      <td>2.045038e+07</td>\n",
       "      <td>NaN</td>\n",
       "    </tr>\n",
       "    <tr>\n",
       "      <th>1</th>\n",
       "      <td>20190201</td>\n",
       "      <td>강동구</td>\n",
       "      <td>1.181991e+07</td>\n",
       "      <td>NaN</td>\n",
       "    </tr>\n",
       "    <tr>\n",
       "      <th>2</th>\n",
       "      <td>20190201</td>\n",
       "      <td>강북구</td>\n",
       "      <td>7.271637e+06</td>\n",
       "      <td>NaN</td>\n",
       "    </tr>\n",
       "    <tr>\n",
       "      <th>3</th>\n",
       "      <td>20190201</td>\n",
       "      <td>강서구</td>\n",
       "      <td>1.338179e+07</td>\n",
       "      <td>NaN</td>\n",
       "    </tr>\n",
       "    <tr>\n",
       "      <th>4</th>\n",
       "      <td>20190201</td>\n",
       "      <td>관악구</td>\n",
       "      <td>1.187355e+07</td>\n",
       "      <td>NaN</td>\n",
       "    </tr>\n",
       "    <tr>\n",
       "      <th>...</th>\n",
       "      <td>...</td>\n",
       "      <td>...</td>\n",
       "      <td>...</td>\n",
       "      <td>...</td>\n",
       "    </tr>\n",
       "    <tr>\n",
       "      <th>10620</th>\n",
       "      <td>20200831</td>\n",
       "      <td>용산구</td>\n",
       "      <td>6.772697e+06</td>\n",
       "      <td>5104870.0</td>\n",
       "    </tr>\n",
       "    <tr>\n",
       "      <th>10621</th>\n",
       "      <td>20200831</td>\n",
       "      <td>은평구</td>\n",
       "      <td>1.079006e+07</td>\n",
       "      <td>7987210.0</td>\n",
       "    </tr>\n",
       "    <tr>\n",
       "      <th>10622</th>\n",
       "      <td>20200831</td>\n",
       "      <td>종로구</td>\n",
       "      <td>6.549824e+06</td>\n",
       "      <td>5137120.0</td>\n",
       "    </tr>\n",
       "    <tr>\n",
       "      <th>10623</th>\n",
       "      <td>20200831</td>\n",
       "      <td>중구</td>\n",
       "      <td>6.420853e+06</td>\n",
       "      <td>5528340.0</td>\n",
       "    </tr>\n",
       "    <tr>\n",
       "      <th>10624</th>\n",
       "      <td>20200831</td>\n",
       "      <td>중랑구</td>\n",
       "      <td>8.630479e+06</td>\n",
       "      <td>7039970.0</td>\n",
       "    </tr>\n",
       "  </tbody>\n",
       "</table>\n",
       "<p>10625 rows × 4 columns</p>\n",
       "</div>"
      ],
      "text/plain": [
       "             날짜    구         생활인구수      유동인구수\n",
       "0      20190201  강남구  2.045038e+07        NaN\n",
       "1      20190201  강동구  1.181991e+07        NaN\n",
       "2      20190201  강북구  7.271637e+06        NaN\n",
       "3      20190201  강서구  1.338179e+07        NaN\n",
       "4      20190201  관악구  1.187355e+07        NaN\n",
       "...         ...  ...           ...        ...\n",
       "10620  20200831  용산구  6.772697e+06  5104870.0\n",
       "10621  20200831  은평구  1.079006e+07  7987210.0\n",
       "10622  20200831  종로구  6.549824e+06  5137120.0\n",
       "10623  20200831   중구  6.420853e+06  5528340.0\n",
       "10624  20200831  중랑구  8.630479e+06  7039970.0\n",
       "\n",
       "[10625 rows x 4 columns]"
      ]
     },
     "execution_count": 166,
     "metadata": {},
     "output_type": "execute_result"
    }
   ],
   "source": [
    "sum_all = pd.merge(res1, res2, how='outer', on = [\"날짜\",\"구\"])\n",
    "sum_all"
   ]
  },
  {
   "cell_type": "code",
   "execution_count": 167,
   "metadata": {},
   "outputs": [
    {
     "data": {
      "text/plain": [
       "날짜         0\n",
       "구          0\n",
       "생활인구수      0\n",
       "유동인구수    725\n",
       "dtype: int64"
      ]
     },
     "execution_count": 167,
     "metadata": {},
     "output_type": "execute_result"
    }
   ],
   "source": [
    "sum_all.isnull().sum()"
   ]
  },
  {
   "cell_type": "code",
   "execution_count": 168,
   "metadata": {},
   "outputs": [],
   "source": [
    "sum_all.to_csv('생활유동합침.csv',encoding='cp949')"
   ]
  },
  {
   "cell_type": "code",
   "execution_count": null,
   "metadata": {},
   "outputs": [],
   "source": []
  }
 ],
 "metadata": {
  "kernelspec": {
   "display_name": "Python 3",
   "language": "python",
   "name": "python3"
  },
  "language_info": {
   "codemirror_mode": {
    "name": "ipython",
    "version": 3
   },
   "file_extension": ".py",
   "mimetype": "text/x-python",
   "name": "python",
   "nbconvert_exporter": "python",
   "pygments_lexer": "ipython3",
   "version": "3.7.3"
  },
  "toc": {
   "base_numbering": 1,
   "nav_menu": {},
   "number_sections": true,
   "sideBar": true,
   "skip_h1_title": false,
   "title_cell": "Table of Contents",
   "title_sidebar": "Contents",
   "toc_cell": false,
   "toc_position": {},
   "toc_section_display": true,
   "toc_window_display": false
  }
 },
 "nbformat": 4,
 "nbformat_minor": 4
}
